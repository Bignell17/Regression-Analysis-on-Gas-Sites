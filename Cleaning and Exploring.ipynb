{
 "cells": [
  {
   "cell_type": "code",
   "execution_count": 1,
   "metadata": {},
   "outputs": [],
   "source": [
    "import pandas as pd\n",
    "import numpy as np\n",
    "from datetime import date\n",
    "import seaborn as sns\n",
    "from scipy import stats"
   ]
  },
  {
   "cell_type": "markdown",
   "metadata": {},
   "source": [
    "# Cleaning & Exploration"
   ]
  },
  {
   "cell_type": "code",
   "execution_count": 2,
   "metadata": {},
   "outputs": [
    {
     "data": {
      "text/plain": [
       "(933, 4)"
      ]
     },
     "execution_count": 2,
     "metadata": {},
     "output_type": "execute_result"
    }
   ],
   "source": [
    "df = pd.read_excel('C:/Users/Jordan/Desktop/jupyter notebook/Correla/Correla_Consumption.xlsx')\n",
    "df.shape"
   ]
  },
  {
   "cell_type": "code",
   "execution_count": 3,
   "metadata": {},
   "outputs": [
    {
     "data": {
      "text/html": [
       "<div>\n",
       "<style scoped>\n",
       "    .dataframe tbody tr th:only-of-type {\n",
       "        vertical-align: middle;\n",
       "    }\n",
       "\n",
       "    .dataframe tbody tr th {\n",
       "        vertical-align: top;\n",
       "    }\n",
       "\n",
       "    .dataframe thead th {\n",
       "        text-align: right;\n",
       "    }\n",
       "</style>\n",
       "<table border=\"1\" class=\"dataframe\">\n",
       "  <thead>\n",
       "    <tr style=\"text-align: right;\">\n",
       "      <th></th>\n",
       "      <th>SITE</th>\n",
       "      <th>METER_READ_DATE</th>\n",
       "      <th>Date</th>\n",
       "      <th>VOLUME_CONSUMPTION</th>\n",
       "    </tr>\n",
       "  </thead>\n",
       "  <tbody>\n",
       "    <tr>\n",
       "      <th>0</th>\n",
       "      <td>Site1</td>\n",
       "      <td>20190402</td>\n",
       "      <td>2019-04-02</td>\n",
       "      <td>9</td>\n",
       "    </tr>\n",
       "    <tr>\n",
       "      <th>1</th>\n",
       "      <td>Site1</td>\n",
       "      <td>20190403</td>\n",
       "      <td>2019-04-03</td>\n",
       "      <td>15</td>\n",
       "    </tr>\n",
       "    <tr>\n",
       "      <th>2</th>\n",
       "      <td>Site1</td>\n",
       "      <td>20190404</td>\n",
       "      <td>2019-04-04</td>\n",
       "      <td>16</td>\n",
       "    </tr>\n",
       "    <tr>\n",
       "      <th>3</th>\n",
       "      <td>Site1</td>\n",
       "      <td>20190405</td>\n",
       "      <td>2019-04-05</td>\n",
       "      <td>16</td>\n",
       "    </tr>\n",
       "    <tr>\n",
       "      <th>4</th>\n",
       "      <td>Site1</td>\n",
       "      <td>20190406</td>\n",
       "      <td>2019-04-06</td>\n",
       "      <td>9</td>\n",
       "    </tr>\n",
       "  </tbody>\n",
       "</table>\n",
       "</div>"
      ],
      "text/plain": [
       "    SITE  METER_READ_DATE       Date  VOLUME_CONSUMPTION\n",
       "0  Site1         20190402 2019-04-02                   9\n",
       "1  Site1         20190403 2019-04-03                  15\n",
       "2  Site1         20190404 2019-04-04                  16\n",
       "3  Site1         20190405 2019-04-05                  16\n",
       "4  Site1         20190406 2019-04-06                   9"
      ]
     },
     "execution_count": 3,
     "metadata": {},
     "output_type": "execute_result"
    }
   ],
   "source": [
    "df.head()"
   ]
  },
  {
   "cell_type": "code",
   "execution_count": 4,
   "metadata": {},
   "outputs": [
    {
     "name": "stdout",
     "output_type": "stream",
     "text": [
      "<class 'pandas.core.frame.DataFrame'>\n",
      "RangeIndex: 933 entries, 0 to 932\n",
      "Data columns (total 4 columns):\n",
      " #   Column              Non-Null Count  Dtype         \n",
      "---  ------              --------------  -----         \n",
      " 0   SITE                933 non-null    object        \n",
      " 1   METER_READ_DATE     933 non-null    int64         \n",
      " 2   Date                933 non-null    datetime64[ns]\n",
      " 3   VOLUME_CONSUMPTION  933 non-null    int64         \n",
      "dtypes: datetime64[ns](1), int64(2), object(1)\n",
      "memory usage: 29.3+ KB\n"
     ]
    }
   ],
   "source": [
    "pd(df.isna())"
   ]
  },
  {
   "cell_type": "code",
   "execution_count": 5,
   "metadata": {},
   "outputs": [],
   "source": [
    "#Used Excel to format Date therefore dropping dropping METER_READ_DATE\n",
    "df = df.drop(columns= ['METER_READ_DATE'])"
   ]
  },
  {
   "cell_type": "code",
   "execution_count": 6,
   "metadata": {},
   "outputs": [],
   "source": [
    "#Renaming column names to make it more accessible\n",
    "df.rename(columns = {'SITE': 'Site', 'VOLUME_CONSUMPTION': 'Vol' },\n",
    "         inplace=True)"
   ]
  },
  {
   "cell_type": "code",
   "execution_count": 7,
   "metadata": {
    "scrolled": true
   },
   "outputs": [
    {
     "data": {
      "text/html": [
       "<div>\n",
       "<style scoped>\n",
       "    .dataframe tbody tr th:only-of-type {\n",
       "        vertical-align: middle;\n",
       "    }\n",
       "\n",
       "    .dataframe tbody tr th {\n",
       "        vertical-align: top;\n",
       "    }\n",
       "\n",
       "    .dataframe thead th {\n",
       "        text-align: right;\n",
       "    }\n",
       "</style>\n",
       "<table border=\"1\" class=\"dataframe\">\n",
       "  <thead>\n",
       "    <tr style=\"text-align: right;\">\n",
       "      <th></th>\n",
       "      <th>Vol</th>\n",
       "    </tr>\n",
       "  </thead>\n",
       "  <tbody>\n",
       "    <tr>\n",
       "      <th>count</th>\n",
       "      <td>933.000000</td>\n",
       "    </tr>\n",
       "    <tr>\n",
       "      <th>mean</th>\n",
       "      <td>1076.206860</td>\n",
       "    </tr>\n",
       "    <tr>\n",
       "      <th>std</th>\n",
       "      <td>32738.584021</td>\n",
       "    </tr>\n",
       "    <tr>\n",
       "      <th>min</th>\n",
       "      <td>-3520.000000</td>\n",
       "    </tr>\n",
       "    <tr>\n",
       "      <th>25%</th>\n",
       "      <td>2.000000</td>\n",
       "    </tr>\n",
       "    <tr>\n",
       "      <th>50%</th>\n",
       "      <td>5.000000</td>\n",
       "    </tr>\n",
       "    <tr>\n",
       "      <th>75%</th>\n",
       "      <td>10.000000</td>\n",
       "    </tr>\n",
       "    <tr>\n",
       "      <th>max</th>\n",
       "      <td>999999.000000</td>\n",
       "    </tr>\n",
       "  </tbody>\n",
       "</table>\n",
       "</div>"
      ],
      "text/plain": [
       "                 Vol\n",
       "count     933.000000\n",
       "mean     1076.206860\n",
       "std     32738.584021\n",
       "min     -3520.000000\n",
       "25%         2.000000\n",
       "50%         5.000000\n",
       "75%        10.000000\n",
       "max    999999.000000"
      ]
     },
     "execution_count": 7,
     "metadata": {},
     "output_type": "execute_result"
    }
   ],
   "source": [
    "df.describe()\n",
    "#We find outlier(s) in Vol column"
   ]
  },
  {
   "cell_type": "code",
   "execution_count": 8,
   "metadata": {},
   "outputs": [
    {
     "name": "stdout",
     "output_type": "stream",
     "text": [
      "      Site       Date     Vol\n",
      "751  Site3 2019-06-05  999999\n"
     ]
    }
   ],
   "source": [
    "print(df[np.abs(df.Vol - df.Vol.mean()) > 1.5*df.Vol.std() ])"
   ]
  },
  {
   "cell_type": "code",
   "execution_count": 15,
   "metadata": {},
   "outputs": [
    {
     "name": "stdout",
     "output_type": "stream",
     "text": [
      "(array([ 49, 647, 751], dtype=int64),) (array([244, 245, 361], dtype=int64),)\n"
     ]
    }
   ],
   "source": [
    "#Identitying outliers and removing them\n",
    "outlierpos = (np.where(df['Vol'] > 50))\n",
    "outlierneg = (np.where(df['Vol'] < -10))\n",
    "print(outlierpos, outlierneg)"
   ]
  },
  {
   "cell_type": "code",
   "execution_count": 10,
   "metadata": {},
   "outputs": [],
   "source": [
    "df = df.drop([49,647, 751, 134, 244, 245, 361])"
   ]
  },
  {
   "cell_type": "code",
   "execution_count": 11,
   "metadata": {},
   "outputs": [
    {
     "data": {
      "text/html": [
       "<div>\n",
       "<style scoped>\n",
       "    .dataframe tbody tr th:only-of-type {\n",
       "        vertical-align: middle;\n",
       "    }\n",
       "\n",
       "    .dataframe tbody tr th {\n",
       "        vertical-align: top;\n",
       "    }\n",
       "\n",
       "    .dataframe thead th {\n",
       "        text-align: right;\n",
       "    }\n",
       "</style>\n",
       "<table border=\"1\" class=\"dataframe\">\n",
       "  <thead>\n",
       "    <tr style=\"text-align: right;\">\n",
       "      <th></th>\n",
       "      <th>Site</th>\n",
       "      <th>Date</th>\n",
       "      <th>Vol</th>\n",
       "    </tr>\n",
       "  </thead>\n",
       "  <tbody>\n",
       "    <tr>\n",
       "      <th>45</th>\n",
       "      <td>Site1</td>\n",
       "      <td>2019-05-19</td>\n",
       "      <td>6</td>\n",
       "    </tr>\n",
       "    <tr>\n",
       "      <th>46</th>\n",
       "      <td>Site1</td>\n",
       "      <td>2019-05-20</td>\n",
       "      <td>3</td>\n",
       "    </tr>\n",
       "    <tr>\n",
       "      <th>47</th>\n",
       "      <td>Site1</td>\n",
       "      <td>2019-05-21</td>\n",
       "      <td>3</td>\n",
       "    </tr>\n",
       "    <tr>\n",
       "      <th>48</th>\n",
       "      <td>Site1</td>\n",
       "      <td>2019-05-22</td>\n",
       "      <td>1</td>\n",
       "    </tr>\n",
       "    <tr>\n",
       "      <th>50</th>\n",
       "      <td>Site1</td>\n",
       "      <td>2019-05-24</td>\n",
       "      <td>2</td>\n",
       "    </tr>\n",
       "  </tbody>\n",
       "</table>\n",
       "</div>"
      ],
      "text/plain": [
       "     Site       Date  Vol\n",
       "45  Site1 2019-05-19    6\n",
       "46  Site1 2019-05-20    3\n",
       "47  Site1 2019-05-21    3\n",
       "48  Site1 2019-05-22    1\n",
       "50  Site1 2019-05-24    2"
      ]
     },
     "execution_count": 11,
     "metadata": {},
     "output_type": "execute_result"
    }
   ],
   "source": [
    "#Example: We see record 49 has been removed, if we look at the date it skips \t2019-05-23\n",
    "df[45:50]"
   ]
  },
  {
   "cell_type": "code",
   "execution_count": 12,
   "metadata": {},
   "outputs": [
    {
     "data": {
      "text/html": [
       "<div>\n",
       "<style scoped>\n",
       "    .dataframe tbody tr th:only-of-type {\n",
       "        vertical-align: middle;\n",
       "    }\n",
       "\n",
       "    .dataframe tbody tr th {\n",
       "        vertical-align: top;\n",
       "    }\n",
       "\n",
       "    .dataframe thead th {\n",
       "        text-align: right;\n",
       "    }\n",
       "</style>\n",
       "<table border=\"1\" class=\"dataframe\">\n",
       "  <thead>\n",
       "    <tr style=\"text-align: right;\">\n",
       "      <th></th>\n",
       "      <th>Vol</th>\n",
       "    </tr>\n",
       "  </thead>\n",
       "  <tbody>\n",
       "    <tr>\n",
       "      <th>count</th>\n",
       "      <td>926.000000</td>\n",
       "    </tr>\n",
       "    <tr>\n",
       "      <th>mean</th>\n",
       "      <td>6.322894</td>\n",
       "    </tr>\n",
       "    <tr>\n",
       "      <th>std</th>\n",
       "      <td>5.108599</td>\n",
       "    </tr>\n",
       "    <tr>\n",
       "      <th>min</th>\n",
       "      <td>0.000000</td>\n",
       "    </tr>\n",
       "    <tr>\n",
       "      <th>25%</th>\n",
       "      <td>2.000000</td>\n",
       "    </tr>\n",
       "    <tr>\n",
       "      <th>50%</th>\n",
       "      <td>5.000000</td>\n",
       "    </tr>\n",
       "    <tr>\n",
       "      <th>75%</th>\n",
       "      <td>10.000000</td>\n",
       "    </tr>\n",
       "    <tr>\n",
       "      <th>max</th>\n",
       "      <td>21.000000</td>\n",
       "    </tr>\n",
       "  </tbody>\n",
       "</table>\n",
       "</div>"
      ],
      "text/plain": [
       "              Vol\n",
       "count  926.000000\n",
       "mean     6.322894\n",
       "std      5.108599\n",
       "min      0.000000\n",
       "25%      2.000000\n",
       "50%      5.000000\n",
       "75%     10.000000\n",
       "max     21.000000"
      ]
     },
     "execution_count": 12,
     "metadata": {},
     "output_type": "execute_result"
    }
   ],
   "source": [
    "#Viewing new descriptive analysis of data (no outliers)\n",
    "df.describe()"
   ]
  },
  {
   "cell_type": "code",
   "execution_count": 13,
   "metadata": {},
   "outputs": [
    {
     "name": "stdout",
     "output_type": "stream",
     "text": [
      "      Site       Date  Vol\n",
      "304  Site1 1900-02-19   15\n"
     ]
    }
   ],
   "source": [
    "#Find outlier(s) in Date Column\n",
    "print(df[np.abs(df.Date - df.Date.mean()) > 1.5*df.Date.std() ])"
   ]
  },
  {
   "cell_type": "code",
   "execution_count": 14,
   "metadata": {},
   "outputs": [],
   "source": [
    "#Drops row 304 that contains outlier \n",
    "df = df.drop([304])"
   ]
  },
  {
   "cell_type": "code",
   "execution_count": 15,
   "metadata": {},
   "outputs": [
    {
     "data": {
      "text/html": [
       "<div>\n",
       "<style scoped>\n",
       "    .dataframe tbody tr th:only-of-type {\n",
       "        vertical-align: middle;\n",
       "    }\n",
       "\n",
       "    .dataframe tbody tr th {\n",
       "        vertical-align: top;\n",
       "    }\n",
       "\n",
       "    .dataframe thead th {\n",
       "        text-align: right;\n",
       "    }\n",
       "</style>\n",
       "<table border=\"1\" class=\"dataframe\">\n",
       "  <thead>\n",
       "    <tr style=\"text-align: right;\">\n",
       "      <th></th>\n",
       "      <th>Site</th>\n",
       "      <th>Date</th>\n",
       "      <th>Vol</th>\n",
       "    </tr>\n",
       "  </thead>\n",
       "  <tbody>\n",
       "    <tr>\n",
       "      <th>294</th>\n",
       "      <td>Site1</td>\n",
       "      <td>2020-02-09</td>\n",
       "      <td>9</td>\n",
       "    </tr>\n",
       "    <tr>\n",
       "      <th>295</th>\n",
       "      <td>Site1</td>\n",
       "      <td>2020-02-10</td>\n",
       "      <td>14</td>\n",
       "    </tr>\n",
       "    <tr>\n",
       "      <th>296</th>\n",
       "      <td>Site1</td>\n",
       "      <td>2020-02-11</td>\n",
       "      <td>14</td>\n",
       "    </tr>\n",
       "    <tr>\n",
       "      <th>297</th>\n",
       "      <td>Site1</td>\n",
       "      <td>2020-02-12</td>\n",
       "      <td>10</td>\n",
       "    </tr>\n",
       "    <tr>\n",
       "      <th>298</th>\n",
       "      <td>Site1</td>\n",
       "      <td>2020-02-13</td>\n",
       "      <td>12</td>\n",
       "    </tr>\n",
       "    <tr>\n",
       "      <th>299</th>\n",
       "      <td>Site1</td>\n",
       "      <td>2020-02-14</td>\n",
       "      <td>20</td>\n",
       "    </tr>\n",
       "    <tr>\n",
       "      <th>300</th>\n",
       "      <td>Site1</td>\n",
       "      <td>2020-02-15</td>\n",
       "      <td>16</td>\n",
       "    </tr>\n",
       "    <tr>\n",
       "      <th>301</th>\n",
       "      <td>Site1</td>\n",
       "      <td>2020-02-16</td>\n",
       "      <td>12</td>\n",
       "    </tr>\n",
       "    <tr>\n",
       "      <th>302</th>\n",
       "      <td>Site1</td>\n",
       "      <td>2020-02-17</td>\n",
       "      <td>8</td>\n",
       "    </tr>\n",
       "    <tr>\n",
       "      <th>303</th>\n",
       "      <td>Site1</td>\n",
       "      <td>2020-02-18</td>\n",
       "      <td>16</td>\n",
       "    </tr>\n",
       "    <tr>\n",
       "      <th>305</th>\n",
       "      <td>Site1</td>\n",
       "      <td>2020-02-20</td>\n",
       "      <td>12</td>\n",
       "    </tr>\n",
       "    <tr>\n",
       "      <th>306</th>\n",
       "      <td>Site1</td>\n",
       "      <td>2020-02-21</td>\n",
       "      <td>20</td>\n",
       "    </tr>\n",
       "    <tr>\n",
       "      <th>307</th>\n",
       "      <td>Site1</td>\n",
       "      <td>2020-02-22</td>\n",
       "      <td>16</td>\n",
       "    </tr>\n",
       "    <tr>\n",
       "      <th>308</th>\n",
       "      <td>Site1</td>\n",
       "      <td>2020-02-23</td>\n",
       "      <td>14</td>\n",
       "    </tr>\n",
       "    <tr>\n",
       "      <th>309</th>\n",
       "      <td>Site1</td>\n",
       "      <td>2020-02-24</td>\n",
       "      <td>14</td>\n",
       "    </tr>\n",
       "    <tr>\n",
       "      <th>310</th>\n",
       "      <td>Site1</td>\n",
       "      <td>2020-02-25</td>\n",
       "      <td>14</td>\n",
       "    </tr>\n",
       "    <tr>\n",
       "      <th>311</th>\n",
       "      <td>Site1</td>\n",
       "      <td>2020-02-26</td>\n",
       "      <td>15</td>\n",
       "    </tr>\n",
       "  </tbody>\n",
       "</table>\n",
       "</div>"
      ],
      "text/plain": [
       "      Site       Date  Vol\n",
       "294  Site1 2020-02-09    9\n",
       "295  Site1 2020-02-10   14\n",
       "296  Site1 2020-02-11   14\n",
       "297  Site1 2020-02-12   10\n",
       "298  Site1 2020-02-13   12\n",
       "299  Site1 2020-02-14   20\n",
       "300  Site1 2020-02-15   16\n",
       "301  Site1 2020-02-16   12\n",
       "302  Site1 2020-02-17    8\n",
       "303  Site1 2020-02-18   16\n",
       "305  Site1 2020-02-20   12\n",
       "306  Site1 2020-02-21   20\n",
       "307  Site1 2020-02-22   16\n",
       "308  Site1 2020-02-23   14\n",
       "309  Site1 2020-02-24   14\n",
       "310  Site1 2020-02-25   14\n",
       "311  Site1 2020-02-26   15"
      ]
     },
     "execution_count": 15,
     "metadata": {},
     "output_type": "execute_result"
    }
   ],
   "source": [
    "df[290:307]"
   ]
  },
  {
   "cell_type": "code",
   "execution_count": 16,
   "metadata": {},
   "outputs": [
    {
     "name": "stdout",
     "output_type": "stream",
     "text": [
      "<class 'pandas.core.frame.DataFrame'>\n",
      "Int64Index: 925 entries, 0 to 932\n",
      "Data columns (total 3 columns):\n",
      " #   Column  Non-Null Count  Dtype         \n",
      "---  ------  --------------  -----         \n",
      " 0   Site    925 non-null    object        \n",
      " 1   Date    925 non-null    datetime64[ns]\n",
      " 2   Vol     925 non-null    int64         \n",
      "dtypes: datetime64[ns](1), int64(1), object(1)\n",
      "memory usage: 28.9+ KB\n"
     ]
    }
   ],
   "source": [
    "#All in correct data type and format\n",
    "df.info()"
   ]
  },
  {
   "cell_type": "code",
   "execution_count": 17,
   "metadata": {},
   "outputs": [],
   "source": [
    "#Create new column by site number\n",
    "#site1=0\n",
    "#site2=1\n",
    "#site3=2\n",
    "df['SiteNo'] = df['Site'].factorize()[0]"
   ]
  },
  {
   "cell_type": "code",
   "execution_count": 18,
   "metadata": {},
   "outputs": [],
   "source": [
    "#Saving data as whole after cleaning\n",
    "df.to_excel('CorrelaCleanData.xlsx')"
   ]
  },
  {
   "cell_type": "code",
   "execution_count": 19,
   "metadata": {},
   "outputs": [],
   "source": [
    "#splitting each site uniquely\n",
    "sites = df['SiteNo'].unique().tolist()\n",
    "site1 = df.loc[df.SiteNo==0]\n",
    "site2 = df.loc[df.SiteNo==1]\n",
    "site3 = df.loc[df.SiteNo==2]"
   ]
  },
  {
   "cell_type": "code",
   "execution_count": 20,
   "metadata": {},
   "outputs": [
    {
     "name": "stdout",
     "output_type": "stream",
     "text": [
      "      Site       Date  Vol  SiteNo\n",
      "0    Site1 2019-04-02    9       0\n",
      "1    Site1 2019-04-03   15       0\n",
      "2    Site1 2019-04-04   16       0\n",
      "3    Site1 2019-04-05   16       0\n",
      "4    Site1 2019-04-06    9       0\n",
      "..     ...        ...  ...     ...\n",
      "342  Site1 2020-03-28   15       0\n",
      "343  Site1 2020-03-29   13       0\n",
      "344  Site1 2020-03-30   13       0\n",
      "345  Site1 2020-03-31   19       0\n",
      "346  Site1 2020-04-01   17       0\n",
      "\n",
      "[342 rows x 4 columns]       Site       Date  Vol  SiteNo\n",
      "347  Site2 2019-04-02    3       1\n",
      "348  Site2 2019-04-03    3       1\n",
      "349  Site2 2019-04-04    3       1\n",
      "350  Site2 2019-04-05    4       1\n",
      "351  Site2 2019-04-06    3       1\n",
      "..     ...        ...  ...     ...\n",
      "684  Site2 2020-03-28    7       1\n",
      "685  Site2 2020-03-29    4       1\n",
      "686  Site2 2020-03-30    6       1\n",
      "687  Site2 2020-03-31    6       1\n",
      "688  Site2 2020-04-01    7       1\n",
      "\n",
      "[340 rows x 4 columns]       Site       Date  Vol  SiteNo\n",
      "689  Site3 2019-04-02    9       2\n",
      "690  Site3 2019-04-03   16       2\n",
      "691  Site3 2019-04-04   14       2\n",
      "692  Site3 2019-04-05   15       2\n",
      "693  Site3 2019-04-06   13       2\n",
      "..     ...        ...  ...     ...\n",
      "928  Site3 2020-03-28    9       2\n",
      "929  Site3 2020-03-29   10       2\n",
      "930  Site3 2020-03-30   12       2\n",
      "931  Site3 2020-03-31   12       2\n",
      "932  Site3 2020-04-01    8       2\n",
      "\n",
      "[243 rows x 4 columns]\n"
     ]
    }
   ],
   "source": [
    "print(site1, site2, site3)"
   ]
  },
  {
   "cell_type": "code",
   "execution_count": 21,
   "metadata": {},
   "outputs": [],
   "source": [
    "#Saves file for each site\n",
    "site1.to_excel('site1.xlsx')\n",
    "site2.to_excel('site2.xlsx')\n",
    "site3.to_excel('site3.xlsx')"
   ]
  },
  {
   "cell_type": "code",
   "execution_count": null,
   "metadata": {},
   "outputs": [],
   "source": []
  }
 ],
 "metadata": {
  "kernelspec": {
   "display_name": "Python 3",
   "language": "python",
   "name": "python3"
  },
  "language_info": {
   "codemirror_mode": {
    "name": "ipython",
    "version": 3
   },
   "file_extension": ".py",
   "mimetype": "text/x-python",
   "name": "python",
   "nbconvert_exporter": "python",
   "pygments_lexer": "ipython3",
   "version": "3.8.3"
  }
 },
 "nbformat": 4,
 "nbformat_minor": 4
}
